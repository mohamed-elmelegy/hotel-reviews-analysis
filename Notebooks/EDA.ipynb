{
 "cells": [
  {
   "cell_type": "markdown",
   "metadata": {},
   "source": [
    "# Hotel Reviews EDA\n",
    "[Dataset Link](https://www.kaggle.com/datasets/datafiniti/hotel-reviews?select=7282_1.csv)"
   ]
  },
  {
   "cell_type": "code",
   "execution_count": 31,
   "metadata": {},
   "outputs": [],
   "source": [
    "import pandas as pd\n",
    "import matplotlib.pyplot as plt\n",
    "import re\n",
    "import string"
   ]
  },
  {
   "cell_type": "markdown",
   "metadata": {},
   "source": [
    "## Data Loading"
   ]
  },
  {
   "cell_type": "code",
   "execution_count": 2,
   "metadata": {},
   "outputs": [
    {
     "name": "stdout",
     "output_type": "stream",
     "text": [
      "Data Shape:(35912, 19)\n",
      "\n"
     ]
    },
    {
     "data": {
      "text/html": [
       "<div>\n",
       "<style scoped>\n",
       "    .dataframe tbody tr th:only-of-type {\n",
       "        vertical-align: middle;\n",
       "    }\n",
       "\n",
       "    .dataframe tbody tr th {\n",
       "        vertical-align: top;\n",
       "    }\n",
       "\n",
       "    .dataframe thead th {\n",
       "        text-align: right;\n",
       "    }\n",
       "</style>\n",
       "<table border=\"1\" class=\"dataframe\">\n",
       "  <thead>\n",
       "    <tr style=\"text-align: right;\">\n",
       "      <th></th>\n",
       "      <th>address</th>\n",
       "      <th>categories</th>\n",
       "      <th>city</th>\n",
       "      <th>country</th>\n",
       "      <th>latitude</th>\n",
       "      <th>longitude</th>\n",
       "      <th>name</th>\n",
       "      <th>postalCode</th>\n",
       "      <th>province</th>\n",
       "      <th>reviews.date</th>\n",
       "      <th>reviews.dateAdded</th>\n",
       "      <th>reviews.doRecommend</th>\n",
       "      <th>reviews.id</th>\n",
       "      <th>reviews.rating</th>\n",
       "      <th>reviews.text</th>\n",
       "      <th>reviews.title</th>\n",
       "      <th>reviews.userCity</th>\n",
       "      <th>reviews.username</th>\n",
       "      <th>reviews.userProvince</th>\n",
       "    </tr>\n",
       "  </thead>\n",
       "  <tbody>\n",
       "    <tr>\n",
       "      <th>3421</th>\n",
       "      <td>2855 Main St</td>\n",
       "      <td>Hotels</td>\n",
       "      <td>Irvine</td>\n",
       "      <td>US</td>\n",
       "      <td>33.679710</td>\n",
       "      <td>-117.837279</td>\n",
       "      <td>Residence Inn By Marriott Irvine John Wayne Ai...</td>\n",
       "      <td>92614</td>\n",
       "      <td>CA</td>\n",
       "      <td>2015-10-15T00:00:00Z</td>\n",
       "      <td>2016-10-30T21:45:19Z</td>\n",
       "      <td>NaN</td>\n",
       "      <td>NaN</td>\n",
       "      <td>5.0</td>\n",
       "      <td>We stayed in here for two weeks. all was great...</td>\n",
       "      <td>Special trip</td>\n",
       "      <td>NaN</td>\n",
       "      <td>Tjammal</td>\n",
       "      <td>NaN</td>\n",
       "    </tr>\n",
       "    <tr>\n",
       "      <th>6944</th>\n",
       "      <td>5610 Vineland Rd</td>\n",
       "      <td>Hotels</td>\n",
       "      <td>Orlando</td>\n",
       "      <td>US</td>\n",
       "      <td>28.482007</td>\n",
       "      <td>-81.455546</td>\n",
       "      <td>Extended Stay America - Orlando Theme Parks - ...</td>\n",
       "      <td>32819</td>\n",
       "      <td>FL</td>\n",
       "      <td>2015-03-06T00:00:00Z</td>\n",
       "      <td>2016-11-03T15:09:53Z</td>\n",
       "      <td>NaN</td>\n",
       "      <td>NaN</td>\n",
       "      <td>4.0</td>\n",
       "      <td>I was very surprised how big the room was and ...</td>\n",
       "      <td>Shockingly surprised</td>\n",
       "      <td>Carthage</td>\n",
       "      <td>Bernice</td>\n",
       "      <td>MO</td>\n",
       "    </tr>\n",
       "    <tr>\n",
       "      <th>26009</th>\n",
       "      <td>11900 N W Plaza Cir</td>\n",
       "      <td>Hotels</td>\n",
       "      <td>Kansas City</td>\n",
       "      <td>US</td>\n",
       "      <td>39.309014</td>\n",
       "      <td>-94.682600</td>\n",
       "      <td>Super 8 Kansas City Airport</td>\n",
       "      <td>64153</td>\n",
       "      <td>MO</td>\n",
       "      <td>2016-04-30T00:00:00Z</td>\n",
       "      <td>2016-11-16T04:02:09Z</td>\n",
       "      <td>NaN</td>\n",
       "      <td>NaN</td>\n",
       "      <td>4.0</td>\n",
       "      <td>I thought it was a decent hotel, they were und...</td>\n",
       "      <td>Terrible</td>\n",
       "      <td>NaN</td>\n",
       "      <td>A Traveler</td>\n",
       "      <td>NaN</td>\n",
       "    </tr>\n",
       "  </tbody>\n",
       "</table>\n",
       "</div>"
      ],
      "text/plain": [
       "                   address categories         city country   latitude  \\\n",
       "3421          2855 Main St     Hotels       Irvine      US  33.679710   \n",
       "6944      5610 Vineland Rd     Hotels      Orlando      US  28.482007   \n",
       "26009  11900 N W Plaza Cir     Hotels  Kansas City      US  39.309014   \n",
       "\n",
       "        longitude                                               name  \\\n",
       "3421  -117.837279  Residence Inn By Marriott Irvine John Wayne Ai...   \n",
       "6944   -81.455546  Extended Stay America - Orlando Theme Parks - ...   \n",
       "26009  -94.682600                        Super 8 Kansas City Airport   \n",
       "\n",
       "      postalCode province          reviews.date     reviews.dateAdded  \\\n",
       "3421       92614       CA  2015-10-15T00:00:00Z  2016-10-30T21:45:19Z   \n",
       "6944       32819       FL  2015-03-06T00:00:00Z  2016-11-03T15:09:53Z   \n",
       "26009      64153       MO  2016-04-30T00:00:00Z  2016-11-16T04:02:09Z   \n",
       "\n",
       "       reviews.doRecommend  reviews.id  reviews.rating  \\\n",
       "3421                   NaN         NaN             5.0   \n",
       "6944                   NaN         NaN             4.0   \n",
       "26009                  NaN         NaN             4.0   \n",
       "\n",
       "                                            reviews.text  \\\n",
       "3421   We stayed in here for two weeks. all was great...   \n",
       "6944   I was very surprised how big the room was and ...   \n",
       "26009  I thought it was a decent hotel, they were und...   \n",
       "\n",
       "              reviews.title reviews.userCity reviews.username  \\\n",
       "3421           Special trip              NaN          Tjammal   \n",
       "6944   Shockingly surprised         Carthage          Bernice   \n",
       "26009              Terrible              NaN       A Traveler   \n",
       "\n",
       "      reviews.userProvince  \n",
       "3421                   NaN  \n",
       "6944                    MO  \n",
       "26009                  NaN  "
      ]
     },
     "execution_count": 2,
     "metadata": {},
     "output_type": "execute_result"
    }
   ],
   "source": [
    "data = pd.read_csv(\"../Storage/Data/7282_1.csv\")\n",
    "print(f\"Data Shape:{data.shape}\\n\")\n",
    "data.sample(3)\n"
   ]
  },
  {
   "cell_type": "markdown",
   "metadata": {},
   "source": [
    "## Data Cleaning"
   ]
  },
  {
   "cell_type": "code",
   "execution_count": 3,
   "metadata": {},
   "outputs": [
    {
     "name": "stdout",
     "output_type": "stream",
     "text": [
      "Data Filtered By Category Shape:(21420, 19)\n"
     ]
    },
    {
     "data": {
      "text/html": [
       "<div>\n",
       "<style scoped>\n",
       "    .dataframe tbody tr th:only-of-type {\n",
       "        vertical-align: middle;\n",
       "    }\n",
       "\n",
       "    .dataframe tbody tr th {\n",
       "        vertical-align: top;\n",
       "    }\n",
       "\n",
       "    .dataframe thead th {\n",
       "        text-align: right;\n",
       "    }\n",
       "</style>\n",
       "<table border=\"1\" class=\"dataframe\">\n",
       "  <thead>\n",
       "    <tr style=\"text-align: right;\">\n",
       "      <th></th>\n",
       "      <th>address</th>\n",
       "      <th>categories</th>\n",
       "      <th>city</th>\n",
       "      <th>country</th>\n",
       "      <th>latitude</th>\n",
       "      <th>longitude</th>\n",
       "      <th>name</th>\n",
       "      <th>postalCode</th>\n",
       "      <th>province</th>\n",
       "      <th>reviews.date</th>\n",
       "      <th>reviews.dateAdded</th>\n",
       "      <th>reviews.doRecommend</th>\n",
       "      <th>reviews.id</th>\n",
       "      <th>reviews.rating</th>\n",
       "      <th>reviews.text</th>\n",
       "      <th>reviews.title</th>\n",
       "      <th>reviews.userCity</th>\n",
       "      <th>reviews.username</th>\n",
       "      <th>reviews.userProvince</th>\n",
       "    </tr>\n",
       "  </thead>\n",
       "  <tbody>\n",
       "    <tr>\n",
       "      <th>18097</th>\n",
       "      <td>36750 Us Highway 19 N</td>\n",
       "      <td>Hotels</td>\n",
       "      <td>Palm Harbor</td>\n",
       "      <td>US</td>\n",
       "      <td>28.10667</td>\n",
       "      <td>-82.739915</td>\n",
       "      <td>Innisbrook</td>\n",
       "      <td>34684</td>\n",
       "      <td>FL</td>\n",
       "      <td>2016-07-15T00:00:00Z</td>\n",
       "      <td>2016-11-15T22:28:01Z</td>\n",
       "      <td>NaN</td>\n",
       "      <td>NaN</td>\n",
       "      <td>5.0</td>\n",
       "      <td>Stan, one of the shuttle drivers, was great! A...</td>\n",
       "      <td>the beach shuttle was so convenient!</td>\n",
       "      <td>NaN</td>\n",
       "      <td>Heather H.</td>\n",
       "      <td>NaN</td>\n",
       "    </tr>\n",
       "  </tbody>\n",
       "</table>\n",
       "</div>"
      ],
      "text/plain": [
       "                     address categories         city country  latitude  \\\n",
       "18097  36750 Us Highway 19 N     Hotels  Palm Harbor      US  28.10667   \n",
       "\n",
       "       longitude        name postalCode province          reviews.date  \\\n",
       "18097 -82.739915  Innisbrook      34684       FL  2016-07-15T00:00:00Z   \n",
       "\n",
       "          reviews.dateAdded  reviews.doRecommend  reviews.id  reviews.rating  \\\n",
       "18097  2016-11-15T22:28:01Z                  NaN         NaN             5.0   \n",
       "\n",
       "                                            reviews.text  \\\n",
       "18097  Stan, one of the shuttle drivers, was great! A...   \n",
       "\n",
       "                              reviews.title reviews.userCity reviews.username  \\\n",
       "18097  the beach shuttle was so convenient!              NaN       Heather H.   \n",
       "\n",
       "      reviews.userProvince  \n",
       "18097                  NaN  "
      ]
     },
     "execution_count": 3,
     "metadata": {},
     "output_type": "execute_result"
    }
   ],
   "source": [
    "hotels = data[data[\"categories\"] == \"Hotels\"]\n",
    "print(f\"Data Filtered By Category Shape:{hotels.shape}\")\n",
    "hotels.sample(1)"
   ]
  },
  {
   "cell_type": "code",
   "execution_count": 4,
   "metadata": {},
   "outputs": [
    {
     "data": {
      "text/plain": [
       "Index(['address', 'categories', 'city', 'country', 'latitude', 'longitude',\n",
       "       'name', 'postalCode', 'province', 'reviews.date', 'reviews.dateAdded',\n",
       "       'reviews.doRecommend', 'reviews.id', 'reviews.rating', 'reviews.text',\n",
       "       'reviews.title', 'reviews.userCity', 'reviews.username',\n",
       "       'reviews.userProvince'],\n",
       "      dtype='object')"
      ]
     },
     "execution_count": 4,
     "metadata": {},
     "output_type": "execute_result"
    }
   ],
   "source": [
    "hotels.columns"
   ]
  },
  {
   "cell_type": "code",
   "execution_count": 5,
   "metadata": {},
   "outputs": [
    {
     "data": {
      "text/plain": [
       "address                     0\n",
       "categories                  0\n",
       "city                        0\n",
       "country                     0\n",
       "latitude                   34\n",
       "longitude                  34\n",
       "name                        0\n",
       "postalCode                 55\n",
       "province                    0\n",
       "reviews.date               25\n",
       "reviews.dateAdded           0\n",
       "reviews.doRecommend     21420\n",
       "reviews.id              21420\n",
       "reviews.rating             50\n",
       "reviews.text               16\n",
       "reviews.title             191\n",
       "reviews.userCity        13967\n",
       "reviews.username           25\n",
       "reviews.userProvince    13537\n",
       "dtype: int64"
      ]
     },
     "execution_count": 5,
     "metadata": {},
     "output_type": "execute_result"
    }
   ],
   "source": [
    "# check columns that have missing values\n",
    "hotels.isna().sum()"
   ]
  },
  {
   "cell_type": "code",
   "execution_count": 6,
   "metadata": {},
   "outputs": [],
   "source": [
    "# Needed columns that contains reviews values\n",
    "columns_to_use = [\n",
    "    'reviews.text', 'reviews.title'\n",
    "]"
   ]
  },
  {
   "cell_type": "code",
   "execution_count": 7,
   "metadata": {},
   "outputs": [
    {
     "data": {
      "text/plain": [
       "reviews.text      16\n",
       "reviews.title    191\n",
       "dtype: int64"
      ]
     },
     "execution_count": 7,
     "metadata": {},
     "output_type": "execute_result"
    }
   ],
   "source": [
    "hotels[columns_to_use].isna().sum()"
   ]
  },
  {
   "cell_type": "markdown",
   "metadata": {},
   "source": [
    "We notice that there are many useless columns for `Sentiment Analysis` task, So we are going to drop them and drop the rows that contains `NaN` values for needed columns (`reviews.text` \\& `reviews.title`), which will be negligible (191) in compare with the rest of the data (21420) and don't make a big difference."
   ]
  },
  {
   "cell_type": "code",
   "execution_count": 8,
   "metadata": {},
   "outputs": [
    {
     "name": "stdout",
     "output_type": "stream",
     "text": [
      "Reviews Data Shape:(21227, 2)\n"
     ]
    },
    {
     "data": {
      "text/html": [
       "<div>\n",
       "<style scoped>\n",
       "    .dataframe tbody tr th:only-of-type {\n",
       "        vertical-align: middle;\n",
       "    }\n",
       "\n",
       "    .dataframe tbody tr th {\n",
       "        vertical-align: top;\n",
       "    }\n",
       "\n",
       "    .dataframe thead th {\n",
       "        text-align: right;\n",
       "    }\n",
       "</style>\n",
       "<table border=\"1\" class=\"dataframe\">\n",
       "  <thead>\n",
       "    <tr style=\"text-align: right;\">\n",
       "      <th></th>\n",
       "      <th>reviews.text</th>\n",
       "      <th>reviews.title</th>\n",
       "    </tr>\n",
       "  </thead>\n",
       "  <tbody>\n",
       "    <tr>\n",
       "      <th>19038</th>\n",
       "      <td>Decent room. Stayed the next night at the Emba...</td>\n",
       "      <td>Average Room. Had Bugs</td>\n",
       "    </tr>\n",
       "  </tbody>\n",
       "</table>\n",
       "</div>"
      ],
      "text/plain": [
       "                                            reviews.text  \\\n",
       "19038  Decent room. Stayed the next night at the Emba...   \n",
       "\n",
       "                reviews.title  \n",
       "19038  Average Room. Had Bugs  "
      ]
     },
     "execution_count": 8,
     "metadata": {},
     "output_type": "execute_result"
    }
   ],
   "source": [
    "# remove any columns out of `columns_to_use` list\n",
    "# then drop all rows with missing values\n",
    "reviews = hotels[columns_to_use].dropna()\n",
    "print(f\"Reviews Data Shape:{reviews.shape}\")\n",
    "reviews.sample(1)\n"
   ]
  },
  {
   "cell_type": "markdown",
   "metadata": {},
   "source": [
    "## Exploratory Data Analysis"
   ]
  },
  {
   "cell_type": "code",
   "execution_count": 9,
   "metadata": {},
   "outputs": [
    {
     "data": {
      "text/plain": [
       "count    21370.000000\n",
       "mean         3.664483\n",
       "std          1.351322\n",
       "min          0.000000\n",
       "25%          3.000000\n",
       "50%          4.000000\n",
       "75%          5.000000\n",
       "max         10.000000\n",
       "Name: reviews.rating, dtype: float64"
      ]
     },
     "execution_count": 9,
     "metadata": {},
     "output_type": "execute_result"
    }
   ],
   "source": [
    "hotels['reviews.rating'].dropna().describe()\n",
    "# hotels[hotels['reviews.rating'] == 10].sample(1)"
   ]
  },
  {
   "cell_type": "code",
   "execution_count": 10,
   "metadata": {},
   "outputs": [
    {
     "data": {
      "image/png": "[encoded data removed]",
      "text/plain": [
       "<Figure size 432x288 with 1 Axes>"
      ]
     },
     "metadata": {
      "needs_background": "light"
     },
     "output_type": "display_data"
    }
   ],
   "source": [
    "plt.boxplot(hotels['reviews.rating'].dropna())\n",
    "plt.show()"
   ]
  },
  {
   "cell_type": "code",
   "execution_count": 50,
   "metadata": {},
   "outputs": [
    {
     "name": "stdout",
     "output_type": "stream",
     "text": [
      "['Never Again in This Lifetime | They overbook then lie about it and then have no rooms available at the time they tell you to come back for your room. Horrible experience with this property, will never book with La Quinta again, anywhere.'\n",
      " 'will consider | The hotel is excellent and clean, I will consider it next time'\n",
      " 'Loved this place! | The hotel lives up to the pictures. The breakfast was excellent. I especially liked that the front desk staff arranged for my train tickets for me. It is very convenient to the train station too.']\n"
     ]
    }
   ],
   "source": [
    "# combine review.title and review.text, hopfully to add more expressive words\n",
    "reviews['full_review'] = reviews['reviews.title'] + \" | \" + reviews['reviews.text']\n",
    "print(reviews['full_review'].sample(3, random_state=1).values)"
   ]
  },
  {
   "cell_type": "code",
   "execution_count": 51,
   "metadata": {},
   "outputs": [
    {
     "name": "stdout",
     "output_type": "stream",
     "text": [
      "['never again in this lifetime | they overbook then lie about it and then have no rooms available at the time they tell you to come back for your room. horrible experience with this property, will never book with la quinta again, anywhere.'\n",
      " 'will consider | the hotel is excellent and clean, i will consider it next time'\n",
      " 'loved this place! | the hotel lives up to the pictures. the breakfast was excellent. i especially liked that the front desk staff arranged for my train tickets for me. it is very convenient to the train station too.']\n"
     ]
    }
   ],
   "source": [
    "# all chars to lower case\n",
    "reviews['cleaned'] = reviews['full_review'].apply(lambda review: review.lower())\n",
    "print(reviews['cleaned'].sample(3, random_state=1).values)\n"
   ]
  },
  {
   "cell_type": "code",
   "execution_count": 52,
   "metadata": {},
   "outputs": [
    {
     "name": "stdout",
     "output_type": "stream",
     "text": [
      "['never again in this lifetime  they overbook then lie about it and then have no rooms available at the time they tell you to come back for your room horrible experience with this property will never book with la quinta again anywhere'\n",
      " 'will consider  the hotel is excellent and clean i will consider it next time'\n",
      " 'loved this place  the hotel lives up to the pictures the breakfast was excellent i especially liked that the front desk staff arranged for my train tickets for me it is very convenient to the train station too']\n"
     ]
    }
   ],
   "source": [
    "# remove punctuations\n",
    "reviews['cleaned'] = reviews['cleaned'].apply(lambda review: re.sub('[%s]' % re.escape(string.punctuation), '', review))\n",
    "print(reviews['cleaned'].sample(3, random_state=1).values)\n"
   ]
  },
  {
   "cell_type": "code",
   "execution_count": 53,
   "metadata": {},
   "outputs": [
    {
     "name": "stdout",
     "output_type": "stream",
     "text": [
      "['lifetime   overbook lie room available time tell come room horrible experience property book la quinta'\n",
      " 'consider   hotel excellent clean consider time'\n",
      " 'love place   hotel live picture breakfast excellent especially like desk staff arrange train ticket convenient train station']\n"
     ]
    }
   ],
   "source": [
    "# Importing spacy\n",
    "import spacy\n",
    "\n",
    "# Loading model\n",
    "nlp = spacy.load('en_core_web_sm', disable=['parser', 'ner'])\n",
    "\n",
    "# Lemmatization with stopwords removal\n",
    "reviews['lemmatized'] = reviews['cleaned'].apply(lambda review: ' '.join([token.lemma_ for token in list(nlp(review)) if (token.is_stop==False)]))\n",
    "print(reviews['lemmatized'].sample(3, random_state=1).values)"
   ]
  },
  {
   "cell_type": "code",
   "execution_count": 54,
   "metadata": {},
   "outputs": [
    {
     "name": "stdout",
     "output_type": "stream",
     "text": [
      "['lifetime overbook lie room available time tell come room horrible experience property book la quinta'\n",
      " 'consider hotel excellent clean consider time'\n",
      " 'love place hotel live picture breakfast excellent especially like desk staff arrange train ticket convenient train station']\n"
     ]
    }
   ],
   "source": [
    "# Removing extra spaces\n",
    "reviews['lemmatized'] = reviews['lemmatized'].apply(lambda review: re.sub(' +',' ',review))\n",
    "print(reviews['lemmatized'].sample(3, random_state=1).values)\n"
   ]
  },
  {
   "cell_type": "code",
   "execution_count": 73,
   "metadata": {},
   "outputs": [],
   "source": [
    "# Save `reviews` & `hotels` dataframes as CSV\n",
    "hotels.to_csv('../Storage/Data/Hotels.csv', index=False)\n",
    "reviews.to_csv('../Storage/Data/Reviews.csv', index=False)"
   ]
  },
  {
   "cell_type": "code",
   "execution_count": 96,
   "metadata": {},
   "outputs": [
    {
     "data": {
      "text/plain": [
       "(27221, 21227)"
      ]
     },
     "execution_count": 96,
     "metadata": {},
     "output_type": "execute_result"
    }
   ],
   "source": [
    "from sklearn.feature_extraction.text import CountVectorizer\n",
    "\n",
    "\n",
    "def term_document_matrix(docs, **kwargs):\n",
    "    ''' create a Term-Document-Matrix\n",
    "        with **kwargs you can pass arguments of CountVectorizer\n",
    "    '''\n",
    "\n",
    "    # initialize the  vectorizer\n",
    "    vectorizer = CountVectorizer(**kwargs)\n",
    "    tdm = vectorizer.fit_transform(docs)\n",
    "\n",
    "    return tdm.T, vectorizer.get_feature_names()\n",
    "\n",
    "\n",
    "reviews_dtm, word_columns = term_document_matrix(reviews.lemmatized)\n",
    "reviews_dtm.shape\n"
   ]
  },
  {
   "cell_type": "code",
   "execution_count": 104,
   "metadata": {},
   "outputs": [
    {
     "ename": "TypeError",
     "evalue": "iteration over a 0-d array",
     "output_type": "error",
     "traceback": [
      "\u001b[1;31m---------------------------------------------------------------------------\u001b[0m",
      "\u001b[1;31mTypeError\u001b[0m                                 Traceback (most recent call last)",
      "\u001b[1;32m<ipython-input-104-4d81bea1613f>\u001b[0m in \u001b[0;36m<module>\u001b[1;34m\u001b[0m\n\u001b[0;32m     18\u001b[0m \u001b[1;31m# # Transposing document term matrix\u001b[0m\u001b[1;33m\u001b[0m\u001b[1;33m\u001b[0m\u001b[1;33m\u001b[0m\u001b[0m\n\u001b[0;32m     19\u001b[0m \u001b[1;31m#  = reviews_dtm.transpose()\u001b[0m\u001b[1;33m\u001b[0m\u001b[1;33m\u001b[0m\u001b[1;33m\u001b[0m\u001b[0m\n\u001b[1;32m---> 20\u001b[1;33m \u001b[0msorted\u001b[0m\u001b[1;33m(\u001b[0m\u001b[0mnp\u001b[0m\u001b[1;33m.\u001b[0m\u001b[0marray\u001b[0m\u001b[1;33m(\u001b[0m\u001b[0mreviews_dtm\u001b[0m\u001b[1;33m[\u001b[0m\u001b[1;36m0\u001b[0m\u001b[1;33m]\u001b[0m\u001b[1;33m)\u001b[0m\u001b[1;33m)\u001b[0m\u001b[1;33m\u001b[0m\u001b[1;33m\u001b[0m\u001b[0m\n\u001b[0m\u001b[0;32m     21\u001b[0m \u001b[1;31m# Plotting word cloud for each product\u001b[0m\u001b[1;33m\u001b[0m\u001b[1;33m\u001b[0m\u001b[1;33m\u001b[0m\u001b[0m\n\u001b[0;32m     22\u001b[0m \u001b[1;31m# for index, word in enumerate(word_columns):\u001b[0m\u001b[1;33m\u001b[0m\u001b[1;33m\u001b[0m\u001b[1;33m\u001b[0m\u001b[0m\n",
      "\u001b[1;31mTypeError\u001b[0m: iteration over a 0-d array"
     ]
    }
   ],
   "source": [
    "# Importing wordcloud for plotting word clouds and textwrap for wrapping longer text\n",
    "from wordcloud import WordCloud\n",
    "from textwrap import wrap\n",
    "import numpy as np\n",
    "\n",
    "# Function for generating word clouds\n",
    "\n",
    "\n",
    "def generate_wordcloud(data, title):\n",
    "    wc = WordCloud(width=400, height=330, max_words=150, colormap=\"Dark2\").generate_from_frequencies(data)\n",
    "    plt.figure(figsize=(10, 8))\n",
    "    plt.imshow(wc, interpolation='bilinear')\n",
    "    plt.axis(\"off\")\n",
    "    plt.title('\\n'.join(wrap(title, 60)), fontsize=13)\n",
    "    plt.show()\n",
    "\n",
    "\n",
    "# # Transposing document term matrix\n",
    "#  = reviews_dtm.transpose()\n",
    "sorted(np.array(reviews_dtm[0]))\n",
    "# Plotting word cloud for each product\n",
    "# for index, word in enumerate(word_columns):\n",
    "#     tmp = np.array(reviews_dtm[index])\n",
    "#     generate_wordcloud(reversed(tmp), word)\n"
   ]
  },
  {
   "cell_type": "code",
   "execution_count": null,
   "metadata": {},
   "outputs": [],
   "source": []
  }
 ],
 "metadata": {
  "interpreter": {
   "hash": "dfe2e9041c24d5f91854bb9ffc35eacf9a6123f8e0fdaf39110ac9ad93cae24d"
  },
  "kernelspec": {
   "display_name": "Python 3.8.8 ('base')",
   "language": "python",
   "name": "python3"
  },
  "language_info": {
   "codemirror_mode": {
    "name": "ipython",
    "version": 3
   },
   "file_extension": ".py",
   "mimetype": "text/x-python",
   "name": "python",
   "nbconvert_exporter": "python",
   "pygments_lexer": "ipython3",
   "version": "3.8.8"
  },
  "orig_nbformat": 4
 },
 "nbformat": 4,
 "nbformat_minor": 2
}
