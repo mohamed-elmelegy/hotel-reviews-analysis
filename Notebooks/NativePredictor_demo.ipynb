{
 "cells": [
  {
   "cell_type": "markdown",
   "metadata": {},
   "source": [
    "## Imports"
   ]
  },
  {
   "cell_type": "code",
   "execution_count": 1,
   "metadata": {
    "ExecuteTime": {
     "end_time": "2021-09-18T13:09:07.002423Z",
     "start_time": "2021-09-18T13:09:06.969423Z"
    }
   },
   "outputs": [],
   "source": [
    "import pandas as pd\n",
    "import nltk\n",
    "import re\n",
    "from nltk.stem import PorterStemmer\n",
    "from nltk.stem import WordNetLemmatizer\n",
    "\n",
    "from sklearn.feature_extraction.text import TfidfVectorizer \n",
    "from sklearn.model_selection import train_test_split\n",
    "from sklearn.naive_bayes import MultinomialNB\n",
    "from sklearn.pipeline import Pipeline"
   ]
  },
  {
   "cell_type": "code",
   "execution_count": 2,
   "metadata": {
    "ExecuteTime": {
     "end_time": "2021-09-18T13:14:33.771896Z",
     "start_time": "2021-09-18T13:14:33.747866Z"
    }
   },
   "outputs": [
    {
     "name": "stderr",
     "output_type": "stream",
     "text": [
      "[nltk_data] Downloading package punkt to\n",
      "[nltk_data]     C:\\Users\\moham\\AppData\\Roaming\\nltk_data...\n",
      "[nltk_data]   Package punkt is already up-to-date!\n",
      "[nltk_data] Downloading package stopwords to\n",
      "[nltk_data]     C:\\Users\\moham\\AppData\\Roaming\\nltk_data...\n",
      "[nltk_data]   Package stopwords is already up-to-date!\n",
      "[nltk_data] Downloading package words to\n",
      "[nltk_data]     C:\\Users\\moham\\AppData\\Roaming\\nltk_data...\n",
      "[nltk_data]   Package words is already up-to-date!\n"
     ]
    },
    {
     "data": {
      "text/plain": [
       "True"
      ]
     },
     "execution_count": 2,
     "metadata": {},
     "output_type": "execute_result"
    }
   ],
   "source": [
    "# installing punctuation of English for preprocessing purposes\n",
    "nltk.download('punkt')\n",
    "# installing stop words of English for preprocessing purposes\n",
    "nltk.download('stopwords')\n",
    "# installing English words\n",
    "nltk.download('words')"
   ]
  },
  {
   "cell_type": "markdown",
   "metadata": {},
   "source": [
    "## Loading External Data\n",
    "\n",
    "First of all, I downloaded the new data for training my model from this [Kaggle Link](https://www.kaggle.com/datasets/jiashenliu/515k-hotel-reviews-data-in-europe), then I unzipped, renamed the file to be _`euro-hotels-reviews-515k.csv`_ and stored it into that path _`/Storage/Data/External/`_\n",
    "\n",
    "> __Make sure that you have dowloaded the new external data before running the next cells!__\n",
    "> \n",
    "> Data is too big to be tracked or pushed to GitHub, so We'll add it to `.gitignore`"
   ]
  },
  {
   "cell_type": "code",
   "execution_count": 3,
   "metadata": {
    "ExecuteTime": {
     "end_time": "2021-09-18T13:13:04.754470Z",
     "start_time": "2021-09-18T13:12:58.878794Z"
    },
    "id": "xfhOjc9BYu7P",
    "outputId": "e4aca4c2-6ac9-40b0-aa26-c6f3a91ac0bb"
   },
   "outputs": [
    {
     "data": {
      "text/html": [
       "<div>\n",
       "<style scoped>\n",
       "    .dataframe tbody tr th:only-of-type {\n",
       "        vertical-align: middle;\n",
       "    }\n",
       "\n",
       "    .dataframe tbody tr th {\n",
       "        vertical-align: top;\n",
       "    }\n",
       "\n",
       "    .dataframe thead th {\n",
       "        text-align: right;\n",
       "    }\n",
       "</style>\n",
       "<table border=\"1\" class=\"dataframe\">\n",
       "  <thead>\n",
       "    <tr style=\"text-align: right;\">\n",
       "      <th></th>\n",
       "      <th>Review</th>\n",
       "      <th>Sentiment</th>\n",
       "    </tr>\n",
       "  </thead>\n",
       "  <tbody>\n",
       "    <tr>\n",
       "      <th>0</th>\n",
       "      <td>I am so angry that i made this post available...</td>\n",
       "      <td>Negative</td>\n",
       "    </tr>\n",
       "    <tr>\n",
       "      <th>1</th>\n",
       "      <td>No Negative No real complaints the hotel was g...</td>\n",
       "      <td>Positive</td>\n",
       "    </tr>\n",
       "    <tr>\n",
       "      <th>2</th>\n",
       "      <td>Rooms are nice but for elderly a bit difficul...</td>\n",
       "      <td>Positive</td>\n",
       "    </tr>\n",
       "    <tr>\n",
       "      <th>3</th>\n",
       "      <td>My room was dirty and I was afraid to walk ba...</td>\n",
       "      <td>Negative</td>\n",
       "    </tr>\n",
       "    <tr>\n",
       "      <th>4</th>\n",
       "      <td>You When I booked with your company on line y...</td>\n",
       "      <td>Positive</td>\n",
       "    </tr>\n",
       "    <tr>\n",
       "      <th>5</th>\n",
       "      <td>Backyard of the hotel is total mess shouldn t...</td>\n",
       "      <td>Positive</td>\n",
       "    </tr>\n",
       "    <tr>\n",
       "      <th>6</th>\n",
       "      <td>Cleaner did not change our sheet and duvet ev...</td>\n",
       "      <td>Negative</td>\n",
       "    </tr>\n",
       "    <tr>\n",
       "      <th>7</th>\n",
       "      <td>Apart from the price for the brekfast Everyth...</td>\n",
       "      <td>Positive</td>\n",
       "    </tr>\n",
       "    <tr>\n",
       "      <th>8</th>\n",
       "      <td>Even though the pictures show very clean room...</td>\n",
       "      <td>Positive</td>\n",
       "    </tr>\n",
       "    <tr>\n",
       "      <th>9</th>\n",
       "      <td>The aircondition makes so much noise and its ...</td>\n",
       "      <td>Positive</td>\n",
       "    </tr>\n",
       "  </tbody>\n",
       "</table>\n",
       "</div>"
      ],
      "text/plain": [
       "                                              Review Sentiment\n",
       "0   I am so angry that i made this post available...  Negative\n",
       "1  No Negative No real complaints the hotel was g...  Positive\n",
       "2   Rooms are nice but for elderly a bit difficul...  Positive\n",
       "3   My room was dirty and I was afraid to walk ba...  Negative\n",
       "4   You When I booked with your company on line y...  Positive\n",
       "5   Backyard of the hotel is total mess shouldn t...  Positive\n",
       "6   Cleaner did not change our sheet and duvet ev...  Negative\n",
       "7   Apart from the price for the brekfast Everyth...  Positive\n",
       "8   Even though the pictures show very clean room...  Positive\n",
       "9   The aircondition makes so much noise and its ...  Positive"
      ]
     },
     "execution_count": 3,
     "metadata": {},
     "output_type": "execute_result"
    }
   ],
   "source": [
    "data = pd.read_csv(\"../Storage/Data/External/euro-hotels-reviews-515k.csv\")\n",
    "data['Review'] = data['Negative_Review']+ data['Positive_Review']\n",
    "\n",
    "# create the label\n",
    "data[\"Sentiment\"] = data[\"Reviewer_Score\"].apply(lambda x: 'Negative' if x < 5 else 'Positive')\n",
    "# select only relevant columns\n",
    "data = data[[\"Review\", \"Sentiment\"]]\n",
    "data.head(10)"
   ]
  },
  {
   "cell_type": "code",
   "execution_count": 4,
   "metadata": {},
   "outputs": [
    {
     "data": {
      "text/plain": [
       "Positive    493457\n",
       "Negative     22281\n",
       "Name: Sentiment, dtype: int64"
      ]
     },
     "execution_count": 4,
     "metadata": {},
     "output_type": "execute_result"
    }
   ],
   "source": [
    "# check labels counts\n",
    "data['Sentiment'].value_counts()"
   ]
  },
  {
   "cell_type": "markdown",
   "metadata": {},
   "source": [
    "#### Just take random stratified samples of 10000 records for each sentiment"
   ]
  },
  {
   "cell_type": "code",
   "execution_count": 5,
   "metadata": {},
   "outputs": [
    {
     "data": {
      "text/plain": [
       "Negative    0.5\n",
       "Positive    0.5\n",
       "Name: Sentiment, dtype: float64"
      ]
     },
     "execution_count": 5,
     "metadata": {},
     "output_type": "execute_result"
    }
   ],
   "source": [
    "# just take random stratified sample of 10000 \n",
    "hotels = data.groupby('Sentiment', group_keys=False).apply(lambda x: x.sample(20000))\n",
    "hotels['Sentiment'].value_counts(normalize=True)"
   ]
  },
  {
   "cell_type": "code",
   "execution_count": 6,
   "metadata": {},
   "outputs": [
    {
     "data": {
      "text/html": [
       "<div>\n",
       "<style scoped>\n",
       "    .dataframe tbody tr th:only-of-type {\n",
       "        vertical-align: middle;\n",
       "    }\n",
       "\n",
       "    .dataframe tbody tr th {\n",
       "        vertical-align: top;\n",
       "    }\n",
       "\n",
       "    .dataframe thead th {\n",
       "        text-align: right;\n",
       "    }\n",
       "</style>\n",
       "<table border=\"1\" class=\"dataframe\">\n",
       "  <thead>\n",
       "    <tr style=\"text-align: right;\">\n",
       "      <th></th>\n",
       "      <th>Review</th>\n",
       "      <th>Sentiment</th>\n",
       "    </tr>\n",
       "  </thead>\n",
       "  <tbody>\n",
       "    <tr>\n",
       "      <th>257560</th>\n",
       "      <td>Rug was rather stained  Service Big room Grea...</td>\n",
       "      <td>Positive</td>\n",
       "    </tr>\n",
       "    <tr>\n",
       "      <th>478390</th>\n",
       "      <td>The heating system is very noisy and you can ...</td>\n",
       "      <td>Negative</td>\n",
       "    </tr>\n",
       "    <tr>\n",
       "      <th>2038</th>\n",
       "      <td>Although it wasn t an issue for me as it wasn...</td>\n",
       "      <td>Positive</td>\n",
       "    </tr>\n",
       "    <tr>\n",
       "      <th>105108</th>\n",
       "      <td>VERY OLD UPHOLSTRY CARPETS ARE STINKING AND D...</td>\n",
       "      <td>Negative</td>\n",
       "    </tr>\n",
       "    <tr>\n",
       "      <th>173956</th>\n",
       "      <td>Found the breakfast staff quite unfriendly an...</td>\n",
       "      <td>Positive</td>\n",
       "    </tr>\n",
       "    <tr>\n",
       "      <th>58700</th>\n",
       "      <td>No Negative The bed was very comfortable and t...</td>\n",
       "      <td>Positive</td>\n",
       "    </tr>\n",
       "    <tr>\n",
       "      <th>149694</th>\n",
       "      <td>They actually stole money from us from a mist...</td>\n",
       "      <td>Negative</td>\n",
       "    </tr>\n",
       "    <tr>\n",
       "      <th>181657</th>\n",
       "      <td>No Negative Rooms location staff and everythin...</td>\n",
       "      <td>Positive</td>\n",
       "    </tr>\n",
       "    <tr>\n",
       "      <th>17360</th>\n",
       "      <td>They charged me several times by accident  Th...</td>\n",
       "      <td>Negative</td>\n",
       "    </tr>\n",
       "    <tr>\n",
       "      <th>493788</th>\n",
       "      <td>Narrow parking space in front of the hotel wh...</td>\n",
       "      <td>Positive</td>\n",
       "    </tr>\n",
       "  </tbody>\n",
       "</table>\n",
       "</div>"
      ],
      "text/plain": [
       "                                                   Review Sentiment\n",
       "257560   Rug was rather stained  Service Big room Grea...  Positive\n",
       "478390   The heating system is very noisy and you can ...  Negative\n",
       "2038     Although it wasn t an issue for me as it wasn...  Positive\n",
       "105108   VERY OLD UPHOLSTRY CARPETS ARE STINKING AND D...  Negative\n",
       "173956   Found the breakfast staff quite unfriendly an...  Positive\n",
       "58700   No Negative The bed was very comfortable and t...  Positive\n",
       "149694   They actually stole money from us from a mist...  Negative\n",
       "181657  No Negative Rooms location staff and everythin...  Positive\n",
       "17360    They charged me several times by accident  Th...  Negative\n",
       "493788   Narrow parking space in front of the hotel wh...  Positive"
      ]
     },
     "execution_count": 6,
     "metadata": {},
     "output_type": "execute_result"
    }
   ],
   "source": [
    "# double check after sampling\n",
    "hotels.sample(10, random_state=42)"
   ]
  },
  {
   "cell_type": "markdown",
   "metadata": {},
   "source": [
    "## Data Preprocessing"
   ]
  },
  {
   "cell_type": "code",
   "execution_count": 7,
   "metadata": {
    "ExecuteTime": {
     "end_time": "2021-09-18T13:22:15.837401Z",
     "start_time": "2021-09-18T13:22:15.822401Z"
    }
   },
   "outputs": [],
   "source": [
    "def preprocess_text(df):\n",
    "    # all chars to lower case\n",
    "    df['cleaned'] = df['Review'].apply(lambda review: review.lower())\n",
    "    # remove special chars\n",
    "    df['cleaned'] = df['cleaned'].map(lambda review: re.sub(r'\\W+', ' ', review))\n",
    "    # remove non-English words\n",
    "    words = set(nltk.corpus.words.words())\n",
    "    df['cleaned'] = df['cleaned'].apply(lambda review: \" \".join(w for w in nltk.wordpunct_tokenize(review) \\\n",
    "                                                                      if w in words or not w.isalpha()))\n",
    "    # remove English stopwords\n",
    "    stopwords = nltk.corpus.stopwords.words('english')\n",
    "    df['cleaned'] = df['cleaned'].apply(lambda review: \" \".join(w for w in nltk.wordpunct_tokenize(review) \\\n",
    "                                                                      if w not in stopwords))\n",
    "    # lemmatize tokens (words)\n",
    "    lemmatizer = WordNetLemmatizer()\n",
    "    df['cleaned'] = df['cleaned'].apply(lambda review: \" \".join(lemmatizer.lemmatize(w) for w in nltk.wordpunct_tokenize(review)))\n",
    "\n",
    "    return df['cleaned']\n",
    "\n",
    "    "
   ]
  },
  {
   "cell_type": "code",
   "execution_count": 8,
   "metadata": {
    "ExecuteTime": {
     "end_time": "2021-09-18T13:36:55.730979Z",
     "start_time": "2021-09-18T13:36:46.580495Z"
    }
   },
   "outputs": [
    {
     "data": {
      "text/plain": [
       "(' We never received the daily paper delivery we requested for our four night stay Closet is very small  Friendly and very welcoming staff Room 439 Street view Quiet room Very comfortable bed with reading lights Excellent linens Walk in shower with large rain shower head and a separate flexible shower hosepipe Excellent toiletries Excellent hair dryer Two drawer night stand Large flat screen TV Safe is large enough for a small laptop Empty mini bar refrigerator for your use Two bottles of complimentary water supplied each day Power Point at the desk has 2 USB ports 2 English ports 1 EU port 1 North American port and an RJ45 port Reading chair and lamp The Gloucester tube station is directly across the road from the lobby The Natural History Science and V A Museums are about a 10 minute walk from the hotel ',\n",
       " 'never received daily paper delivery four night stay closet small friendly welcoming staff room 439 street view quiet room comfortable bed reading excellent walk shower large rain shower head separate flexible shower excellent excellent hair two drawer night stand large flat screen safe large enough small empty bar refrigerator use two complimentary water day power point desk 2 2 1 eu port 1 north port rj45 port reading chair lamp tube station directly across road lobby natural history science v 10 minute walk hotel')"
      ]
     },
     "execution_count": 8,
     "metadata": {},
     "output_type": "execute_result"
    }
   ],
   "source": [
    "X = preprocess_text(hotels.drop(['Sentiment'], axis=1))\n",
    "y = hotels['Sentiment']\n",
    "\n",
    "hotels['Review'].iloc[0], X.iloc[0]"
   ]
  },
  {
   "cell_type": "code",
   "execution_count": 9,
   "metadata": {},
   "outputs": [
    {
     "data": {
      "text/plain": [
       "((32000,), (8000,), (32000,), (8000,))"
      ]
     },
     "execution_count": 9,
     "metadata": {},
     "output_type": "execute_result"
    }
   ],
   "source": [
    "# split data into train & test regarding sentiment distribution\n",
    "X_train, X_test, y_train, y_test  = train_test_split(X, y, test_size=0.20, random_state=42, stratify=y)\n",
    "X_train.shape, X_test.shape, y_train.shape, y_test.shape"
   ]
  },
  {
   "cell_type": "markdown",
   "metadata": {},
   "source": [
    "#### Saving Preprocessed Data \n",
    "for model retraining, testing and evaluation purposes"
   ]
  },
  {
   "cell_type": "code",
   "execution_count": 20,
   "metadata": {},
   "outputs": [],
   "source": [
    "X_train.to_csv('../Storage/Data/External/X_train.csv')\n",
    "y_train.to_csv('../Storage/Data/External/y_train.csv')\n",
    "X_test.to_csv('../Storage/Data/External/X_test.csv')\n",
    "y_test.to_csv('../Storage/Data/External/y_test.csv')"
   ]
  },
  {
   "cell_type": "markdown",
   "metadata": {},
   "source": [
    "## Feature Engineering"
   ]
  },
  {
   "cell_type": "code",
   "execution_count": 10,
   "metadata": {
    "ExecuteTime": {
     "end_time": "2021-09-18T13:36:59.986746Z",
     "start_time": "2021-09-18T13:36:59.966746Z"
    },
    "id": "YWhNy4LgYu7R"
   },
   "outputs": [],
   "source": [
    "# Create a pipeline to transform data then train the model\n",
    "model = Pipeline(steps=[\n",
    "    ('vectorizer', TfidfVectorizer(ngram_range=(1, 3))), \n",
    "    ('predictor', MultinomialNB())\n",
    "])"
   ]
  },
  {
   "cell_type": "markdown",
   "metadata": {
    "id": "bZUGaMLtYu7S"
   },
   "source": [
    "## Model Training\n",
    "\n",
    "With this pipeline, we can apply the model to the training data, and predict labels for the test data:"
   ]
  },
  {
   "cell_type": "code",
   "execution_count": 11,
   "metadata": {
    "ExecuteTime": {
     "end_time": "2021-09-18T13:37:01.634672Z",
     "start_time": "2021-09-18T13:37:01.191710Z"
    },
    "id": "mrBNmUl6Yu7S"
   },
   "outputs": [
    {
     "name": "stdout",
     "output_type": "stream",
     "text": [
      "Training Score:  0.952\n"
     ]
    }
   ],
   "source": [
    "model.fit(X_train, y_train)\n",
    "print(\"Training Score: \", model.score(X_train, y_train))"
   ]
  },
  {
   "cell_type": "code",
   "execution_count": 12,
   "metadata": {
    "ExecuteTime": {
     "end_time": "2021-09-18T13:37:02.906640Z",
     "start_time": "2021-09-18T13:37:02.788589Z"
    }
   },
   "outputs": [
    {
     "name": "stdout",
     "output_type": "stream",
     "text": [
      "Testing Score:  0.844875\n"
     ]
    },
    {
     "data": {
      "text/plain": [
       "Negative    4423\n",
       "Positive    3577\n",
       "dtype: int64"
      ]
     },
     "execution_count": 12,
     "metadata": {},
     "output_type": "execute_result"
    }
   ],
   "source": [
    "y_preds_proba = model.predict_proba(X_test)\n",
    "y_preds = model.predict(X_test)\n",
    "\n",
    "print(\"Testing Score: \", model.score(X_test, y_test))\n",
    "pd.DataFrame(y_preds).value_counts()"
   ]
  },
  {
   "cell_type": "markdown",
   "metadata": {
    "id": "jV5IyVjXYu7S"
   },
   "source": [
    "Now that we have predicted the labels for the test data, we can evaluate them to learn about the performance of the estimator.\n",
    "For example, here is the confusion matrix between the true and predicted labels for the test data:"
   ]
  },
  {
   "cell_type": "markdown",
   "metadata": {},
   "source": [
    "## Model Evaluation"
   ]
  },
  {
   "cell_type": "code",
   "execution_count": 13,
   "metadata": {
    "ExecuteTime": {
     "end_time": "2021-09-18T13:37:28.953144Z",
     "start_time": "2021-09-18T13:37:28.377205Z"
    },
    "id": "GRg-J9c8Yu7T",
    "outputId": "9a00f8c9-456a-4477-8215-b6298ec98b4b"
   },
   "outputs": [
    {
     "data": {
      "text/plain": [
       "Text(83.40000000000006, 0.5, 'Predicted Label')"
      ]
     },
     "execution_count": 13,
     "metadata": {},
     "output_type": "execute_result"
    },
    {
     "data": {
      "image/png": "[encoded data removed]",
      "text/plain": [
       "<Figure size 432x288 with 2 Axes>"
      ]
     },
     "metadata": {
      "needs_background": "light"
     },
     "output_type": "display_data"
    }
   ],
   "source": [
    "from sklearn.metrics import confusion_matrix\n",
    "import numpy as np\n",
    "import matplotlib.pyplot as plt\n",
    "import seaborn as sns\n",
    "\n",
    "\n",
    "unique_labels = np.unique(y)\n",
    "mat = confusion_matrix(y_test, y_preds)\n",
    "\n",
    "sns.heatmap(mat.T, square=True, annot=True, fmt='d', cbar=True,\n",
    "            xticklabels=unique_labels, yticklabels=unique_labels)\n",
    "plt.xlabel('True Label')\n",
    "plt.ylabel('Predicted Label')"
   ]
  },
  {
   "cell_type": "code",
   "execution_count": 14,
   "metadata": {},
   "outputs": [
    {
     "name": "stdout",
     "output_type": "stream",
     "text": [
      "              precision    recall  f1-score   support\n",
      "\n",
      "    Negative       0.81      0.90      0.85      4000\n",
      "    Positive       0.89      0.79      0.84      4000\n",
      "\n",
      "    accuracy                           0.84      8000\n",
      "   macro avg       0.85      0.84      0.84      8000\n",
      "weighted avg       0.85      0.84      0.84      8000\n",
      "\n"
     ]
    }
   ],
   "source": [
    "# Classification Report\n",
    "from sklearn.metrics import classification_report\n",
    "\n",
    "print(classification_report(y_test, y_preds))"
   ]
  },
  {
   "cell_type": "code",
   "execution_count": 15,
   "metadata": {},
   "outputs": [
    {
     "data": {
      "text/plain": [
       "['../Storage/Model/MultinomialNB.pkl']"
      ]
     },
     "execution_count": 15,
     "metadata": {},
     "output_type": "execute_result"
    }
   ],
   "source": [
    "# Save model pipeline, for easier inference\n",
    "import joblib\n",
    "\n",
    "joblib.dump(model, '../Storage/Models/MultinomialNB.pkl')"
   ]
  },
  {
   "cell_type": "markdown",
   "metadata": {},
   "source": [
    "## Model Running"
   ]
  },
  {
   "cell_type": "code",
   "execution_count": 16,
   "metadata": {
    "ExecuteTime": {
     "end_time": "2021-09-18T13:40:43.647370Z",
     "start_time": "2021-09-18T13:40:43.631376Z"
    },
    "id": "kaBgwe7HYu7V"
   },
   "outputs": [],
   "source": [
    "def predict_sentiment(sentences, model_name='MultinomialNB'):\n",
    "    if(isinstance(sentences, str)):\n",
    "        sentences = [sentences]\n",
    "    try:\n",
    "        model = joblib.load(f'../Storage/Models/{model_name}.pkl')\n",
    "        preds = model.predict(sentences)\n",
    "        preds_proba = model.predict_proba(sentences)\n",
    "        lens = len(sentences)\n",
    "        results = []\n",
    "        for i in range(lens):\n",
    "            results.append({\n",
    "                'Sentiment': preds[i], \n",
    "                'Positive_prob': preds_proba[i][1], \n",
    "                'Negative_prob': preds_proba[i][0]\n",
    "            })\n",
    "        return results[0] if lens == 1 else results\n",
    "    except Exception as e:\n",
    "        print(\"ERROR:\", e)"
   ]
  },
  {
   "cell_type": "code",
   "execution_count": 17,
   "metadata": {},
   "outputs": [
    {
     "data": {
      "text/plain": [
       "{'Sentiment': 'Positive',\n",
       " 'Positive_prob': 0.585689724651715,\n",
       " 'Negative_prob': 0.4143102753482841}"
      ]
     },
     "execution_count": 17,
     "metadata": {},
     "output_type": "execute_result"
    }
   ],
   "source": [
    "# predict single review\n",
    "predict_sentiment(\"It's so boring to stay there however the food is great!\")"
   ]
  },
  {
   "cell_type": "code",
   "execution_count": 18,
   "metadata": {},
   "outputs": [
    {
     "data": {
      "text/plain": [
       "[{'Sentiment': 'Positive',\n",
       "  'Positive_prob': 0.6105462104183004,\n",
       "  'Negative_prob': 0.38945378958170096},\n",
       " {'Sentiment': 'Negative',\n",
       "  'Positive_prob': 0.20874387605765968,\n",
       "  'Negative_prob': 0.7912561239423418}]"
      ]
     },
     "execution_count": 18,
     "metadata": {},
     "output_type": "execute_result"
    }
   ],
   "source": [
    "# predict bulk reviews\n",
    "predict_sentiment([\n",
    "    \"Good service quality but it's noisy a bit!\", \n",
    "    \"It's so dirty to stay there, and the food is very bad!\"\n",
    "])"
   ]
  }
 ],
 "metadata": {
  "anaconda-cloud": {},
  "colab": {
   "name": "05.05-Naive-Bayes.ipynb",
   "provenance": []
  },
  "kernelspec": {
   "display_name": "Python 3.8.8 ('base')",
   "language": "python",
   "name": "python3"
  },
  "language_info": {
   "codemirror_mode": {
    "name": "ipython",
    "version": 3
   },
   "file_extension": ".py",
   "mimetype": "text/x-python",
   "name": "python",
   "nbconvert_exporter": "python",
   "pygments_lexer": "ipython3",
   "version": "3.8.8"
  },
  "varInspector": {
   "cols": {
    "lenName": 16,
    "lenType": 16,
    "lenVar": 40
   },
   "kernels_config": {
    "python": {
     "delete_cmd_postfix": "",
     "delete_cmd_prefix": "del ",
     "library": "var_list.py",
     "varRefreshCmd": "print(var_dic_list())"
    },
    "r": {
     "delete_cmd_postfix": ") ",
     "delete_cmd_prefix": "rm(",
     "library": "var_list.r",
     "varRefreshCmd": "cat(var_dic_list()) "
    }
   },
   "types_to_exclude": [
    "module",
    "function",
    "builtin_function_or_method",
    "instance",
    "_Feature"
   ],
   "window_display": false
  },
  "vscode": {
   "interpreter": {
    "hash": "dfe2e9041c24d5f91854bb9ffc35eacf9a6123f8e0fdaf39110ac9ad93cae24d"
   }
  }
 },
 "nbformat": 4,
 "nbformat_minor": 1
}
